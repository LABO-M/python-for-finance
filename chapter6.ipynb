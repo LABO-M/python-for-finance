{
 "cells": [
  {
   "cell_type": "markdown",
   "metadata": {},
   "source": [
    "# 6章オブジェクト指向プログラミング\n",
    "## 西野泰平"
   ]
  },
  {
   "cell_type": "markdown",
   "metadata": {},
   "source": [
    "### 6.1 Pythonオブジェクトのオフジェクト指向"
   ]
  },
  {
   "cell_type": "markdown",
   "metadata": {},
   "source": [
    "#### int"
   ]
  },
  {
   "cell_type": "markdown",
   "metadata": {},
   "source": [
    "##### 単純な整数オブジェクト。このような基本的なPythonオブジェクトでも主なOOP機能があります。"
   ]
  },
  {
   "cell_type": "code",
   "execution_count": 111,
   "metadata": {},
   "outputs": [
    {
     "data": {
      "text/plain": [
       "int"
      ]
     },
     "execution_count": 111,
     "metadata": {},
     "output_type": "execute_result"
    }
   ],
   "source": [
    "#新たなインスタンスn(1行目)\n",
    "#オブジェクトの型(2行目)\n",
    "n = 5\n",
    "type(n)"
   ]
  },
  {
   "cell_type": "code",
   "execution_count": 112,
   "metadata": {},
   "outputs": [
    {
     "data": {
      "text/plain": [
       "5"
      ]
     },
     "execution_count": 112,
     "metadata": {},
     "output_type": "execute_result"
    }
   ],
   "source": [
    "#属性\n",
    "n.numerator"
   ]
  },
  {
   "cell_type": "code",
   "execution_count": 113,
   "metadata": {},
   "outputs": [
    {
     "data": {
      "text/plain": [
       "3"
      ]
     },
     "execution_count": 113,
     "metadata": {},
     "output_type": "execute_result"
    }
   ],
   "source": [
    "#メソッド\n",
    "n.bit_length() "
   ]
  },
  {
   "cell_type": "code",
   "execution_count": 114,
   "metadata": {},
   "outputs": [
    {
     "data": {
      "text/plain": [
       "10"
      ]
     },
     "execution_count": 114,
     "metadata": {},
     "output_type": "execute_result"
    }
   ],
   "source": [
    "#＋演算子（和）適用\n",
    "n + n"
   ]
  },
  {
   "cell_type": "code",
   "execution_count": 115,
   "metadata": {},
   "outputs": [
    {
     "data": {
      "text/plain": [
       "10"
      ]
     },
     "execution_count": 115,
     "metadata": {},
     "output_type": "execute_result"
    }
   ],
   "source": [
    "#＊演算子（積）適用\n",
    "2 * n"
   ]
  },
  {
   "cell_type": "code",
   "execution_count": 116,
   "metadata": {},
   "outputs": [
    {
     "data": {
      "text/plain": [
       "28"
      ]
     },
     "execution_count": 116,
     "metadata": {},
     "output_type": "execute_result"
    }
   ],
   "source": [
    "#特殊メソッド__sizeof__()でメモリ使用量（バイト）\n",
    "n.__sizeof__()"
   ]
  },
  {
   "cell_type": "markdown",
   "metadata": {},
   "source": [
    "#### list"
   ]
  },
  {
   "cell_type": "markdown",
   "metadata": {},
   "source": [
    "##### listオブジェクトのメソッドは数が多いですが基本的に同じように振る舞います。"
   ]
  },
  {
   "cell_type": "code",
   "execution_count": 117,
   "metadata": {},
   "outputs": [
    {
     "data": {
      "text/plain": [
       "list"
      ]
     },
     "execution_count": 117,
     "metadata": {},
     "output_type": "execute_result"
    }
   ],
   "source": [
    "#新インスタンスl(1行目)\n",
    "#オブジェクトの型(2行目)\n",
    "l = [1, 2, 3, 4]\n",
    "type(l)\n"
   ]
  },
  {
   "cell_type": "code",
   "execution_count": 118,
   "metadata": {},
   "outputs": [
    {
     "data": {
      "text/plain": [
       "1"
      ]
     },
     "execution_count": 118,
     "metadata": {},
     "output_type": "execute_result"
    }
   ],
   "source": [
    "#インデックスで要素を選択\n",
    "l[0]"
   ]
  },
  {
   "cell_type": "code",
   "execution_count": 119,
   "metadata": {},
   "outputs": [
    {
     "data": {
      "text/plain": [
       "[1, 2, 3, 4, 10, 1, 2, 3, 4, 10]"
      ]
     },
     "execution_count": 119,
     "metadata": {},
     "output_type": "execute_result"
    }
   ],
   "source": [
    "#メソッド(1行目)\n",
    "#＋演算子（連結）適用(2行目)\n",
    "l.append(10)\n",
    "l + l"
   ]
  },
  {
   "cell_type": "code",
   "execution_count": 120,
   "metadata": {},
   "outputs": [
    {
     "data": {
      "text/plain": [
       "[1, 2, 3, 4, 10, 1, 2, 3, 4, 10]"
      ]
     },
     "execution_count": 120,
     "metadata": {},
     "output_type": "execute_result"
    }
   ],
   "source": [
    "#＊演算子（連結）適用\n",
    "2 * l"
   ]
  },
  {
   "cell_type": "code",
   "execution_count": 121,
   "metadata": {},
   "outputs": [
    {
     "data": {
      "text/plain": [
       "20"
      ]
     },
     "execution_count": 121,
     "metadata": {},
     "output_type": "execute_result"
    }
   ],
   "source": [
    "#標準Python関数sum()適用\n",
    "sum(l)"
   ]
  },
  {
   "cell_type": "code",
   "execution_count": 122,
   "metadata": {},
   "outputs": [
    {
     "data": {
      "text/plain": [
       "104"
      ]
     },
     "execution_count": 122,
     "metadata": {},
     "output_type": "execute_result"
    }
   ],
   "source": [
    "#特殊メソッド__sizeof__()でメモリ使用量（バイト）\n",
    "l.__sizeof__()"
   ]
  },
  {
   "cell_type": "markdown",
   "metadata": {},
   "source": [
    "#### ndarray"
   ]
  },
  {
   "cell_type": "markdown",
   "metadata": {},
   "source": [
    "##### intとlistは標準Pythonオブジェクトです。NumPyのndarrayオブジェクトはオープンソースパッケージの「カスタムメイド」オブジェクトです。"
   ]
  },
  {
   "cell_type": "code",
   "execution_count": 123,
   "metadata": {},
   "outputs": [],
   "source": [
    "import numpy as np"
   ]
  },
  {
   "cell_type": "code",
   "execution_count": 124,
   "metadata": {},
   "outputs": [
    {
     "data": {
      "text/plain": [
       "array([[ 0,  1,  2,  3],\n",
       "       [ 4,  5,  6,  7],\n",
       "       [ 8,  9, 10, 11],\n",
       "       [12, 13, 14, 15]])"
      ]
     },
     "execution_count": 124,
     "metadata": {},
     "output_type": "execute_result"
    }
   ],
   "source": [
    "#新インスタンスa\n",
    "a=np.arange(16).reshape((4,4))\n",
    "a"
   ]
  },
  {
   "cell_type": "code",
   "execution_count": 125,
   "metadata": {},
   "outputs": [
    {
     "data": {
      "text/plain": [
       "numpy.ndarray"
      ]
     },
     "execution_count": 125,
     "metadata": {},
     "output_type": "execute_result"
    }
   ],
   "source": [
    "#オブジェクトの型\n",
    "type(a)"
   ]
  },
  {
   "cell_type": "markdown",
   "metadata": {},
   "source": [
    "##### ndarrayオブジェクトは、Pythonの標準的なオブジェクトとは異なる特徴を持っています。本章の後で述べるPythonデータモデルのおかげで多くの場合に標準オブジェクトのように振る舞います。"
   ]
  },
  {
   "cell_type": "code",
   "execution_count": 126,
   "metadata": {},
   "outputs": [
    {
     "data": {
      "text/plain": [
       "64"
      ]
     },
     "execution_count": 126,
     "metadata": {},
     "output_type": "execute_result"
    }
   ],
   "source": [
    "#属性\n",
    "a.nbytes"
   ]
  },
  {
   "cell_type": "code",
   "execution_count": 127,
   "metadata": {},
   "outputs": [
    {
     "data": {
      "text/plain": [
       "120"
      ]
     },
     "execution_count": 127,
     "metadata": {},
     "output_type": "execute_result"
    }
   ],
   "source": [
    "#メソッド（集約）\n",
    "a.sum()"
   ]
  },
  {
   "cell_type": "code",
   "execution_count": 128,
   "metadata": {},
   "outputs": [
    {
     "data": {
      "text/plain": [
       "array([[ 0,  1,  2,  3],\n",
       "       [ 4,  6,  8, 10],\n",
       "       [12, 15, 18, 21],\n",
       "       [24, 28, 32, 36]])"
      ]
     },
     "execution_count": 128,
     "metadata": {},
     "output_type": "execute_result"
    }
   ],
   "source": [
    "#メソッド（非集約）\n",
    "a.cumsum(axis=0)"
   ]
  },
  {
   "cell_type": "code",
   "execution_count": 129,
   "metadata": {},
   "outputs": [
    {
     "data": {
      "text/plain": [
       "array([[ 0,  2,  4,  6],\n",
       "       [ 8, 10, 12, 14],\n",
       "       [16, 18, 20, 22],\n",
       "       [24, 26, 28, 30]])"
      ]
     },
     "execution_count": 129,
     "metadata": {},
     "output_type": "execute_result"
    }
   ],
   "source": [
    "#＋演算子（和）適用\n",
    "a + a"
   ]
  },
  {
   "cell_type": "code",
   "execution_count": 130,
   "metadata": {},
   "outputs": [
    {
     "data": {
      "text/plain": [
       "array([[ 0,  2,  4,  6],\n",
       "       [ 8, 10, 12, 14],\n",
       "       [16, 18, 20, 22],\n",
       "       [24, 26, 28, 30]])"
      ]
     },
     "execution_count": 130,
     "metadata": {},
     "output_type": "execute_result"
    }
   ],
   "source": [
    "#＊演算子（積）適用\n",
    "2 * a"
   ]
  },
  {
   "cell_type": "code",
   "execution_count": 131,
   "metadata": {},
   "outputs": [
    {
     "data": {
      "text/plain": [
       "array([24, 28, 32, 36])"
      ]
     },
     "execution_count": 131,
     "metadata": {},
     "output_type": "execute_result"
    }
   ],
   "source": [
    "#標準Python関数sum()適用\n",
    "sum(a)"
   ]
  },
  {
   "cell_type": "code",
   "execution_count": 132,
   "metadata": {},
   "outputs": [
    {
     "data": {
      "text/plain": [
       "120"
      ]
     },
     "execution_count": 132,
     "metadata": {},
     "output_type": "execute_result"
    }
   ],
   "source": [
    "#NumPyユニバーサル関数np.sum()適用\n",
    "np.sum(a)"
   ]
  },
  {
   "cell_type": "code",
   "execution_count": 133,
   "metadata": {},
   "outputs": [
    {
     "data": {
      "text/plain": [
       "128"
      ]
     },
     "execution_count": 133,
     "metadata": {},
     "output_type": "execute_result"
    }
   ],
   "source": [
    "#特殊メソッド__sizeof__()でメモリ使用量（バイト）\n",
    "a.__sizeof__()\n"
   ]
  },
  {
   "cell_type": "markdown",
   "metadata": {},
   "source": [
    "#### DataFrame"
   ]
  },
  {
   "cell_type": "markdown",
   "metadata": {},
   "source": [
    "##### pandasの DataFrameオブジェクトはndarrayオブジェクトと同じように振る舞います。まず、ndarrayオブジェクトによるDataFrameオブジェクトのインスタンス化です。"
   ]
  },
  {
   "cell_type": "code",
   "execution_count": 134,
   "metadata": {},
   "outputs": [],
   "source": [
    "import pandas as pd"
   ]
  },
  {
   "cell_type": "code",
   "execution_count": 135,
   "metadata": {},
   "outputs": [
    {
     "data": {
      "text/plain": [
       "pandas.core.frame.DataFrame"
      ]
     },
     "execution_count": 135,
     "metadata": {},
     "output_type": "execute_result"
    }
   ],
   "source": [
    "#新インスタンスdf(1行目)\n",
    "#オブジェクトの型(2行目)\n",
    "df = pd.DataFrame(a,columns=list('abcd'))\n",
    "type(df)"
   ]
  },
  {
   "cell_type": "code",
   "execution_count": 136,
   "metadata": {},
   "outputs": [
    {
     "data": {
      "text/plain": [
       "Index(['a', 'b', 'c', 'd'], dtype='object')"
      ]
     },
     "execution_count": 136,
     "metadata": {},
     "output_type": "execute_result"
    }
   ],
   "source": [
    "#属性\n",
    "df.columns"
   ]
  },
  {
   "cell_type": "code",
   "execution_count": 137,
   "metadata": {},
   "outputs": [
    {
     "data": {
      "text/plain": [
       "a    24\n",
       "b    28\n",
       "c    32\n",
       "d    36\n",
       "dtype: int64"
      ]
     },
     "execution_count": 137,
     "metadata": {},
     "output_type": "execute_result"
    }
   ],
   "source": [
    "#メソッド(集約)\n",
    "df.sum()"
   ]
  },
  {
   "cell_type": "code",
   "execution_count": 138,
   "metadata": {},
   "outputs": [
    {
     "data": {
      "text/html": [
       "<div>\n",
       "<style scoped>\n",
       "    .dataframe tbody tr th:only-of-type {\n",
       "        vertical-align: middle;\n",
       "    }\n",
       "\n",
       "    .dataframe tbody tr th {\n",
       "        vertical-align: top;\n",
       "    }\n",
       "\n",
       "    .dataframe thead th {\n",
       "        text-align: right;\n",
       "    }\n",
       "</style>\n",
       "<table border=\"1\" class=\"dataframe\">\n",
       "  <thead>\n",
       "    <tr style=\"text-align: right;\">\n",
       "      <th></th>\n",
       "      <th>a</th>\n",
       "      <th>b</th>\n",
       "      <th>c</th>\n",
       "      <th>d</th>\n",
       "    </tr>\n",
       "  </thead>\n",
       "  <tbody>\n",
       "    <tr>\n",
       "      <th>0</th>\n",
       "      <td>0</td>\n",
       "      <td>1</td>\n",
       "      <td>2</td>\n",
       "      <td>3</td>\n",
       "    </tr>\n",
       "    <tr>\n",
       "      <th>1</th>\n",
       "      <td>4</td>\n",
       "      <td>6</td>\n",
       "      <td>8</td>\n",
       "      <td>10</td>\n",
       "    </tr>\n",
       "    <tr>\n",
       "      <th>2</th>\n",
       "      <td>12</td>\n",
       "      <td>15</td>\n",
       "      <td>18</td>\n",
       "      <td>21</td>\n",
       "    </tr>\n",
       "    <tr>\n",
       "      <th>3</th>\n",
       "      <td>24</td>\n",
       "      <td>28</td>\n",
       "      <td>32</td>\n",
       "      <td>36</td>\n",
       "    </tr>\n",
       "  </tbody>\n",
       "</table>\n",
       "</div>"
      ],
      "text/plain": [
       "    a   b   c   d\n",
       "0   0   1   2   3\n",
       "1   4   6   8  10\n",
       "2  12  15  18  21\n",
       "3  24  28  32  36"
      ]
     },
     "execution_count": 138,
     "metadata": {},
     "output_type": "execute_result"
    }
   ],
   "source": [
    "#メソッド（非集約）\n",
    "df.cumsum() \n"
   ]
  },
  {
   "cell_type": "code",
   "execution_count": 139,
   "metadata": {},
   "outputs": [
    {
     "data": {
      "text/html": [
       "<div>\n",
       "<style scoped>\n",
       "    .dataframe tbody tr th:only-of-type {\n",
       "        vertical-align: middle;\n",
       "    }\n",
       "\n",
       "    .dataframe tbody tr th {\n",
       "        vertical-align: top;\n",
       "    }\n",
       "\n",
       "    .dataframe thead th {\n",
       "        text-align: right;\n",
       "    }\n",
       "</style>\n",
       "<table border=\"1\" class=\"dataframe\">\n",
       "  <thead>\n",
       "    <tr style=\"text-align: right;\">\n",
       "      <th></th>\n",
       "      <th>a</th>\n",
       "      <th>b</th>\n",
       "      <th>c</th>\n",
       "      <th>d</th>\n",
       "    </tr>\n",
       "  </thead>\n",
       "  <tbody>\n",
       "    <tr>\n",
       "      <th>0</th>\n",
       "      <td>0</td>\n",
       "      <td>2</td>\n",
       "      <td>4</td>\n",
       "      <td>6</td>\n",
       "    </tr>\n",
       "    <tr>\n",
       "      <th>1</th>\n",
       "      <td>8</td>\n",
       "      <td>10</td>\n",
       "      <td>12</td>\n",
       "      <td>14</td>\n",
       "    </tr>\n",
       "    <tr>\n",
       "      <th>2</th>\n",
       "      <td>16</td>\n",
       "      <td>18</td>\n",
       "      <td>20</td>\n",
       "      <td>22</td>\n",
       "    </tr>\n",
       "    <tr>\n",
       "      <th>3</th>\n",
       "      <td>24</td>\n",
       "      <td>26</td>\n",
       "      <td>28</td>\n",
       "      <td>30</td>\n",
       "    </tr>\n",
       "  </tbody>\n",
       "</table>\n",
       "</div>"
      ],
      "text/plain": [
       "    a   b   c   d\n",
       "0   0   2   4   6\n",
       "1   8  10  12  14\n",
       "2  16  18  20  22\n",
       "3  24  26  28  30"
      ]
     },
     "execution_count": 139,
     "metadata": {},
     "output_type": "execute_result"
    }
   ],
   "source": [
    "#＋演算子（和）適用\n",
    "df + df"
   ]
  },
  {
   "cell_type": "code",
   "execution_count": 140,
   "metadata": {},
   "outputs": [
    {
     "data": {
      "text/html": [
       "<div>\n",
       "<style scoped>\n",
       "    .dataframe tbody tr th:only-of-type {\n",
       "        vertical-align: middle;\n",
       "    }\n",
       "\n",
       "    .dataframe tbody tr th {\n",
       "        vertical-align: top;\n",
       "    }\n",
       "\n",
       "    .dataframe thead th {\n",
       "        text-align: right;\n",
       "    }\n",
       "</style>\n",
       "<table border=\"1\" class=\"dataframe\">\n",
       "  <thead>\n",
       "    <tr style=\"text-align: right;\">\n",
       "      <th></th>\n",
       "      <th>a</th>\n",
       "      <th>b</th>\n",
       "      <th>c</th>\n",
       "      <th>d</th>\n",
       "    </tr>\n",
       "  </thead>\n",
       "  <tbody>\n",
       "    <tr>\n",
       "      <th>0</th>\n",
       "      <td>0</td>\n",
       "      <td>2</td>\n",
       "      <td>4</td>\n",
       "      <td>6</td>\n",
       "    </tr>\n",
       "    <tr>\n",
       "      <th>1</th>\n",
       "      <td>8</td>\n",
       "      <td>10</td>\n",
       "      <td>12</td>\n",
       "      <td>14</td>\n",
       "    </tr>\n",
       "    <tr>\n",
       "      <th>2</th>\n",
       "      <td>16</td>\n",
       "      <td>18</td>\n",
       "      <td>20</td>\n",
       "      <td>22</td>\n",
       "    </tr>\n",
       "    <tr>\n",
       "      <th>3</th>\n",
       "      <td>24</td>\n",
       "      <td>26</td>\n",
       "      <td>28</td>\n",
       "      <td>30</td>\n",
       "    </tr>\n",
       "  </tbody>\n",
       "</table>\n",
       "</div>"
      ],
      "text/plain": [
       "    a   b   c   d\n",
       "0   0   2   4   6\n",
       "1   8  10  12  14\n",
       "2  16  18  20  22\n",
       "3  24  26  28  30"
      ]
     },
     "execution_count": 140,
     "metadata": {},
     "output_type": "execute_result"
    }
   ],
   "source": [
    "#＊演算子（積）適用\n",
    "2 * df"
   ]
  },
  {
   "cell_type": "code",
   "execution_count": 141,
   "metadata": {},
   "outputs": [
    {
     "data": {
      "text/plain": [
       "a    24\n",
       "b    28\n",
       "c    32\n",
       "d    36\n",
       "dtype: int64"
      ]
     },
     "execution_count": 141,
     "metadata": {},
     "output_type": "execute_result"
    }
   ],
   "source": [
    "#NumPyユニバーサル関数np.sum()適用\n",
    "np.sum(df)"
   ]
  },
  {
   "cell_type": "code",
   "execution_count": 142,
   "metadata": {},
   "outputs": [
    {
     "data": {
      "text/plain": [
       "196"
      ]
     },
     "execution_count": 142,
     "metadata": {},
     "output_type": "execute_result"
    }
   ],
   "source": [
    "#特殊メソッド__sizeof__()でメモリ使用量（バイト）\n",
    "df.__sizeof__()"
   ]
  },
  {
   "cell_type": "markdown",
   "metadata": {},
   "source": [
    "### 6.2 Pythonクラスの基本"
   ]
  },
  {
   "cell_type": "markdown",
   "metadata": {},
   "source": [
    "##### PythonでOOPを使う主要概念と具体的な構文を述べました。次に、既存のPythonオブジェクト型では簡単に、効率的に、適切にモデル化できないオブジェクトをモデル化するカスタムクラスの作成を扱います。ここからは、金融商品を題材としてPythonクラスについて考えていきます。"
   ]
  },
  {
   "cell_type": "code",
   "execution_count": 143,
   "metadata": {},
   "outputs": [],
   "source": [
    "#クラス定義(1行目)\n",
    "#コード、この場合はpassキーワードだけ。(2行目)\n",
    "class Financialinstrument (object):\n",
    "    pass"
   ]
  },
  {
   "cell_type": "code",
   "execution_count": 144,
   "metadata": {},
   "outputs": [
    {
     "data": {
      "text/plain": [
       "__main__.Financialinstrument"
      ]
     },
     "execution_count": 144,
     "metadata": {},
     "output_type": "execute_result"
    }
   ],
   "source": [
    "#クラスの新インスタンスfi(1行目)\n",
    "#オブジェクトの型(2行目)\n",
    "fi = Financialinstrument()\n",
    "type(fi)"
   ]
  },
  {
   "cell_type": "code",
   "execution_count": 145,
   "metadata": {},
   "outputs": [
    {
     "data": {
      "text/plain": [
       "<__main__.Financialinstrument at 0x123f3141c50>"
      ]
     },
     "execution_count": 145,
     "metadata": {},
     "output_type": "execute_result"
    }
   ],
   "source": [
    "#どのPythonオブジェクトにも (object由来の）「特殊」属性とメソッドがある。文字列表現を検索する特殊メソッド呼び出し。\n",
    "fi"
   ]
  },
  {
   "cell_type": "code",
   "execution_count": 146,
   "metadata": {},
   "outputs": [
    {
     "data": {
      "text/plain": [
       "'<__main__.Financialinstrument object at 0x00000123F3141C50>'"
      ]
     },
     "execution_count": 146,
     "metadata": {},
     "output_type": "execute_result"
    }
   ],
   "source": [
    "fi.__str__()"
   ]
  },
  {
   "cell_type": "code",
   "execution_count": 147,
   "metadata": {},
   "outputs": [
    {
     "data": {
      "text/plain": [
       "100"
      ]
     },
     "execution_count": 147,
     "metadata": {},
     "output_type": "execute_result"
    }
   ],
   "source": [
    "#通常の属性とは異なる、いわゆるテータ属性がどのオブジェクトでも定義される。\n",
    "fi.price = 100\n",
    "fi.price"
   ]
  },
  {
   "cell_type": "markdown",
   "metadata": {},
   "source": [
    "##### 重要な特殊メソッドがインスタンス化で呼び出される__init__です。オブジェクトそのもの(表記はself)とオプションで複数の引数を取ります。"
   ]
  },
  {
   "cell_type": "code",
   "execution_count": 148,
   "metadata": {},
   "outputs": [],
   "source": [
    "#クラス属性（全インスタンスが継承）定義(2行目)\n",
    "#初期化で呼び出される特殊メソッド＿＿init＿＿()を定義(3行目)\n",
    "#（インスタンスごとの）インスタンス属性を定義(4行目、5行目)\n",
    "class FinancialInstrument(object):\n",
    "    author='Yves Hilpisch'\n",
    "    def __init__(self, symbol, price):\n",
    "        self.symbol = symbol\n",
    "        self.price = price"
   ]
  },
  {
   "cell_type": "code",
   "execution_count": 149,
   "metadata": {},
   "outputs": [
    {
     "data": {
      "text/plain": [
       "'Yves Hilpisch'"
      ]
     },
     "execution_count": 149,
     "metadata": {},
     "output_type": "execute_result"
    }
   ],
   "source": [
    "FinancialInstrument.author"
   ]
  },
  {
   "cell_type": "code",
   "execution_count": 150,
   "metadata": {},
   "outputs": [],
   "source": [
    "#新インスタンス、aapl(1行目)\n",
    "aapl = FinancialInstrument('AAPL', 100)"
   ]
  },
  {
   "cell_type": "code",
   "execution_count": 151,
   "metadata": {},
   "outputs": [
    {
     "data": {
      "text/plain": [
       "'AAPL'"
      ]
     },
     "execution_count": 151,
     "metadata": {},
     "output_type": "execute_result"
    }
   ],
   "source": [
    "#インスタンス属性にアクセス\n",
    "aapl.symbol"
   ]
  },
  {
   "cell_type": "code",
   "execution_count": 152,
   "metadata": {},
   "outputs": [
    {
     "data": {
      "text/plain": [
       "'Yves Hilpisch'"
      ]
     },
     "execution_count": 152,
     "metadata": {},
     "output_type": "execute_result"
    }
   ],
   "source": [
    "#クラス属性にアクセス\n",
    "aapl.author"
   ]
  },
  {
   "cell_type": "code",
   "execution_count": 153,
   "metadata": {},
   "outputs": [
    {
     "data": {
      "text/plain": [
       "105"
      ]
     },
     "execution_count": 153,
     "metadata": {},
     "output_type": "execute_result"
    }
   ],
   "source": [
    "#インスタンス属性の値を変更\n",
    "aapl.price = 105\n",
    "aapl.price"
   ]
  },
  {
   "cell_type": "markdown",
   "metadata": {},
   "source": [
    "##### 金融商品の値段は常に変わりますが、金融商品のシンボルはあまり変わりません。クラス定義のカプセル化のために 2つのメソッド、get_price()とset_price()を定義します。次のコードは (objectからでなく)前のクラス定義を継承しています。"
   ]
  },
  {
   "cell_type": "code",
   "execution_count": 154,
   "metadata": {},
   "outputs": [],
   "source": [
    "#前のバージョンを継承したクラス定義(1行目)\n",
    "#get_price()メソッド定義(2行目、3行目)\n",
    "#set_price()メソッド定義(4行目)\n",
    "#引数値でインスタンス属性値更新(5行目)\n",
    "class FinancialInstrument(Financialinstrument): \n",
    "    def get_price(self):\n",
    "        return self.price\n",
    "    def set_price(self, price):\n",
    "        self.price = price"
   ]
  },
  {
   "cell_type": "code",
   "execution_count": 155,
   "metadata": {},
   "outputs": [
    {
     "ename": "TypeError",
     "evalue": "FinancialInstrument() takes no arguments",
     "output_type": "error",
     "traceback": [
      "\u001b[1;31m---------------------------------------------------------------------------\u001b[0m",
      "\u001b[1;31mTypeError\u001b[0m                                 Traceback (most recent call last)",
      "Cell \u001b[1;32mIn[155], line 3\u001b[0m\n\u001b[0;32m      1\u001b[0m \u001b[39m#新クラス定義による新インスタンス、fi(1行目)\u001b[39;00m\n\u001b[0;32m      2\u001b[0m \u001b[39m#get_price()メソッド呼び出しでインスタンス属性値検索(2行目)\u001b[39;00m\n\u001b[1;32m----> 3\u001b[0m fi \u001b[39m=\u001b[39m FinancialInstrument(\u001b[39m'\u001b[39m\u001b[39mAAPL\u001b[39m\u001b[39m'\u001b[39m,\u001b[39m100\u001b[39m)\n\u001b[0;32m      4\u001b[0m fi\u001b[39m.\u001b[39mget_price()\n",
      "\u001b[1;31mTypeError\u001b[0m: FinancialInstrument() takes no arguments"
     ]
    }
   ],
   "source": [
    "#新クラス定義による新インスタンス、fi(1行目)\n",
    "#get_price()メソッド呼び出しでインスタンス属性値検索(2行目)\n",
    "fi = FinancialInstrument('AAPL',100)\n",
    "fi.get_price()"
   ]
  },
  {
   "cell_type": "code",
   "execution_count": 156,
   "metadata": {},
   "outputs": [
    {
     "ename": "AttributeError",
     "evalue": "'Financialinstrument' object has no attribute 'set_price'",
     "output_type": "error",
     "traceback": [
      "\u001b[1;31m---------------------------------------------------------------------------\u001b[0m",
      "\u001b[1;31mAttributeError\u001b[0m                            Traceback (most recent call last)",
      "Cell \u001b[1;32mIn[156], line 2\u001b[0m\n\u001b[0;32m      1\u001b[0m \u001b[39m#set_price(）でインスタンス属性値更新\u001b[39;00m\n\u001b[1;32m----> 2\u001b[0m fi\u001b[39m.\u001b[39mset_price(\u001b[39m105\u001b[39m)\n",
      "\u001b[1;31mAttributeError\u001b[0m: 'Financialinstrument' object has no attribute 'set_price'"
     ]
    }
   ],
   "source": [
    "#set_price(）でインスタンス属性値更新\n",
    "fi.set_price(105)"
   ]
  },
  {
   "cell_type": "code",
   "execution_count": 157,
   "metadata": {},
   "outputs": [
    {
     "ename": "AttributeError",
     "evalue": "'Financialinstrument' object has no attribute 'get_price'",
     "output_type": "error",
     "traceback": [
      "\u001b[1;31m---------------------------------------------------------------------------\u001b[0m",
      "\u001b[1;31mAttributeError\u001b[0m                            Traceback (most recent call last)",
      "Cell \u001b[1;32mIn[157], line 1\u001b[0m\n\u001b[1;32m----> 1\u001b[0m fi\u001b[39m.\u001b[39mget_price()\n",
      "\u001b[1;31mAttributeError\u001b[0m: 'Financialinstrument' object has no attribute 'get_price'"
     ]
    }
   ],
   "source": [
    "fi.get_price()"
   ]
  },
  {
   "cell_type": "code",
   "execution_count": 158,
   "metadata": {},
   "outputs": [
    {
     "data": {
      "text/plain": [
       "100"
      ]
     },
     "execution_count": 158,
     "metadata": {},
     "output_type": "execute_result"
    }
   ],
   "source": [
    "#インスタンス属性に直接アクセス\n",
    "fi.price"
   ]
  },
  {
   "cell_type": "markdown",
   "metadata": {},
   "source": [
    "##### カプセル化の目的はクラスを扱うユーザからデータを隠蔽することです。getter/setterメソッドの追加はそのためのものです。しかし、これでは、ユーザによるインスタンス属性の直接アクセス／更新を防げません。そこでプライベートインスタンス属性の登場です。先頭の 2つのアンダースコアで定義します。"
   ]
  },
  {
   "cell_type": "code",
   "execution_count": 159,
   "metadata": {},
   "outputs": [],
   "source": [
    "#プライベートインスタンス属性の値段を定義(4行目)\n",
    "class FinancialInstrument(object): \n",
    "    def __init__(self, symbol, price):\n",
    "        self.symbol = symbol\n",
    "        self.__price = price\n",
    "        def get_price(self):\n",
    "            return self.__price\n",
    "        def set_price(self, price):\n",
    "            self.__price = price\n"
   ]
  },
  {
   "cell_type": "code",
   "execution_count": 160,
   "metadata": {},
   "outputs": [
    {
     "ename": "AttributeError",
     "evalue": "'FinancialInstrument' object has no attribute 'get_price'",
     "output_type": "error",
     "traceback": [
      "\u001b[1;31m---------------------------------------------------------------------------\u001b[0m",
      "\u001b[1;31mAttributeError\u001b[0m                            Traceback (most recent call last)",
      "Cell \u001b[1;32mIn[160], line 3\u001b[0m\n\u001b[0;32m      1\u001b[0m \u001b[39m#メソッドget_price()は値を返す(2行目)\u001b[39;00m\n\u001b[0;32m      2\u001b[0m fi \u001b[39m=\u001b[39m FinancialInstrument(\u001b[39m'\u001b[39m\u001b[39mAAPL\u001b[39m\u001b[39m'\u001b[39m, \u001b[39m100\u001b[39m)\n\u001b[1;32m----> 3\u001b[0m fi\u001b[39m.\u001b[39mget_price()\n",
      "\u001b[1;31mAttributeError\u001b[0m: 'FinancialInstrument' object has no attribute 'get_price'"
     ]
    }
   ],
   "source": [
    "#メソッドget_price()は値を返す(2行目)\n",
    "fi = FinancialInstrument('AAPL', 100)\n",
    "fi.get_price()"
   ]
  },
  {
   "cell_type": "code",
   "execution_count": 161,
   "metadata": {},
   "outputs": [
    {
     "ename": "AttributeError",
     "evalue": "'FinancialInstrument' object has no attribute '__price'",
     "output_type": "error",
     "traceback": [
      "\u001b[1;31m---------------------------------------------------------------------------\u001b[0m",
      "\u001b[1;31mAttributeError\u001b[0m                            Traceback (most recent call last)",
      "Cell \u001b[1;32mIn[161], line 2\u001b[0m\n\u001b[0;32m      1\u001b[0m \u001b[39m#属性に直接アクセスするとエラーを起こす\u001b[39;00m\n\u001b[1;32m----> 2\u001b[0m fi\u001b[39m.\u001b[39m__price\n",
      "\u001b[1;31mAttributeError\u001b[0m: 'FinancialInstrument' object has no attribute '__price'"
     ]
    }
   ],
   "source": [
    "#属性に直接アクセスするとエラーを起こす\n",
    "fi.__price"
   ]
  },
  {
   "cell_type": "code",
   "execution_count": 162,
   "metadata": {},
   "outputs": [
    {
     "data": {
      "text/plain": [
       "100"
      ]
     },
     "execution_count": 162,
     "metadata": {},
     "output_type": "execute_result"
    }
   ],
   "source": [
    "#クラス名の先頭が下線だと直接アクセス／更新が可能\n",
    "fi._FinancialInstrument__price"
   ]
  },
  {
   "cell_type": "code",
   "execution_count": 163,
   "metadata": {},
   "outputs": [],
   "source": [
    "fi._Financialinstrument__price = 105"
   ]
  },
  {
   "cell_type": "code",
   "execution_count": 164,
   "metadata": {},
   "outputs": [
    {
     "ename": "AttributeError",
     "evalue": "'FinancialInstrument' object has no attribute 'set_price'",
     "output_type": "error",
     "traceback": [
      "\u001b[1;31m---------------------------------------------------------------------------\u001b[0m",
      "\u001b[1;31mAttributeError\u001b[0m                            Traceback (most recent call last)",
      "Cell \u001b[1;32mIn[164], line 2\u001b[0m\n\u001b[0;32m      1\u001b[0m \u001b[39m#値段を元の値に戻す\u001b[39;00m\n\u001b[1;32m----> 2\u001b[0m fi\u001b[39m.\u001b[39mset_price(\u001b[39m100\u001b[39m)\n",
      "\u001b[1;31mAttributeError\u001b[0m: 'FinancialInstrument' object has no attribute 'set_price'"
     ]
    }
   ],
   "source": [
    "#値段を元の値に戻す\n",
    "fi.set_price(100)"
   ]
  },
  {
   "cell_type": "markdown",
   "metadata": {},
   "source": [
    "##### 金融商品のポートフォリオのポジションをモデル化する別のクラスを考えます。2つのクラスの集約は概念としてはわかりやすいものです。PortfolioPositionクラスのインスタンスが属性値にFinancialInstrumentクラスのインスタンスを取ります。position_sizeのようなインスタンス属性を追加して、例えば時価を計算できます。"
   ]
  },
  {
   "cell_type": "code",
   "execution_count": 165,
   "metadata": {},
   "outputs": [],
   "source": [
    "#FinancialInstrumentクラスのインスタンスに基づくインスタンス属性(3行目)\n",
    "#PortfolioPositionクラスのプライベートインスタンス属性(4行目)\n",
    "#属性に基づく時価計算(11行目)\n",
    "class PortfolioPosition(object):\n",
    "    def __init__(self, financial_instrument, position_size):\n",
    "        self.position = financial_instrument\n",
    "        self.__position_size = position_size\n",
    "        def get_position_size(self):\n",
    "            return self.__position_size\n",
    "            def update_position_size(self, position_size):\n",
    "                self.__position_size = position_size\n",
    "                def get_position_value(self):\n",
    "                    return self.__position_size * \\\n",
    "                        self.position.get_price()"
   ]
  },
  {
   "cell_type": "code",
   "execution_count": 166,
   "metadata": {},
   "outputs": [],
   "source": [
    "pp = PortfolioPosition(fi, 10)"
   ]
  },
  {
   "cell_type": "code",
   "execution_count": 167,
   "metadata": {},
   "outputs": [
    {
     "ename": "AttributeError",
     "evalue": "'PortfolioPosition' object has no attribute 'get_position_size'",
     "output_type": "error",
     "traceback": [
      "\u001b[1;31m---------------------------------------------------------------------------\u001b[0m",
      "\u001b[1;31mAttributeError\u001b[0m                            Traceback (most recent call last)",
      "Cell \u001b[1;32mIn[167], line 1\u001b[0m\n\u001b[1;32m----> 1\u001b[0m pp\u001b[39m.\u001b[39mget_position_size()\n",
      "\u001b[1;31mAttributeError\u001b[0m: 'PortfolioPosition' object has no attribute 'get_position_size'"
     ]
    }
   ],
   "source": [
    "pp.get_position_size()"
   ]
  },
  {
   "cell_type": "code",
   "execution_count": 168,
   "metadata": {},
   "outputs": [
    {
     "ename": "AttributeError",
     "evalue": "'PortfolioPosition' object has no attribute 'get_position_value'",
     "output_type": "error",
     "traceback": [
      "\u001b[1;31m---------------------------------------------------------------------------\u001b[0m",
      "\u001b[1;31mAttributeError\u001b[0m                            Traceback (most recent call last)",
      "Cell \u001b[1;32mIn[168], line 1\u001b[0m\n\u001b[1;32m----> 1\u001b[0m pp\u001b[39m.\u001b[39mget_position_value()\n",
      "\u001b[1;31mAttributeError\u001b[0m: 'PortfolioPosition' object has no attribute 'get_position_value'"
     ]
    }
   ],
   "source": [
    "pp.get_position_value()"
   ]
  },
  {
   "cell_type": "code",
   "execution_count": 169,
   "metadata": {},
   "outputs": [
    {
     "ename": "AttributeError",
     "evalue": "'FinancialInstrument' object has no attribute 'get_price'",
     "output_type": "error",
     "traceback": [
      "\u001b[1;31m---------------------------------------------------------------------------\u001b[0m",
      "\u001b[1;31mAttributeError\u001b[0m                            Traceback (most recent call last)",
      "Cell \u001b[1;32mIn[169], line 2\u001b[0m\n\u001b[0;32m      1\u001b[0m \u001b[39m#インスタンス属性オプジェクトのメソッドは直接アクセスもできる(隠蔽も可)\u001b[39;00m\n\u001b[1;32m----> 2\u001b[0m pp\u001b[39m.\u001b[39mposition\u001b[39m.\u001b[39mget_price()\n",
      "\u001b[1;31mAttributeError\u001b[0m: 'FinancialInstrument' object has no attribute 'get_price'"
     ]
    }
   ],
   "source": [
    "#インスタンス属性オプジェクトのメソッドは直接アクセスもできる(隠蔽も可)\n",
    "pp.position.get_price()"
   ]
  },
  {
   "cell_type": "code",
   "execution_count": 170,
   "metadata": {},
   "outputs": [
    {
     "ename": "AttributeError",
     "evalue": "'FinancialInstrument' object has no attribute 'set_price'",
     "output_type": "error",
     "traceback": [
      "\u001b[1;31m---------------------------------------------------------------------------\u001b[0m",
      "\u001b[1;31mAttributeError\u001b[0m                            Traceback (most recent call last)",
      "Cell \u001b[1;32mIn[170], line 2\u001b[0m\n\u001b[0;32m      1\u001b[0m \u001b[39m#金融商品の値段更新\u001b[39;00m\n\u001b[1;32m----> 2\u001b[0m pp\u001b[39m.\u001b[39mposition\u001b[39m.\u001b[39mset_price(\u001b[39m105\u001b[39m)\n",
      "\u001b[1;31mAttributeError\u001b[0m: 'FinancialInstrument' object has no attribute 'set_price'"
     ]
    }
   ],
   "source": [
    "#金融商品の値段更新\n",
    "pp.position.set_price(105)"
   ]
  },
  {
   "cell_type": "code",
   "execution_count": 171,
   "metadata": {},
   "outputs": [
    {
     "ename": "AttributeError",
     "evalue": "'PortfolioPosition' object has no attribute 'get_position_value'",
     "output_type": "error",
     "traceback": [
      "\u001b[1;31m---------------------------------------------------------------------------\u001b[0m",
      "\u001b[1;31mAttributeError\u001b[0m                            Traceback (most recent call last)",
      "Cell \u001b[1;32mIn[171], line 2\u001b[0m\n\u001b[0;32m      1\u001b[0m \u001b[39m#更新された値段に基づき新たな時価計算\u001b[39;00m\n\u001b[1;32m----> 2\u001b[0m pp\u001b[39m.\u001b[39mget_position_value()\n",
      "\u001b[1;31mAttributeError\u001b[0m: 'PortfolioPosition' object has no attribute 'get_position_value'"
     ]
    }
   ],
   "source": [
    "#更新された値段に基づき新たな時価計算\n",
    "pp.get_position_value() "
   ]
  },
  {
   "cell_type": "markdown",
   "metadata": {},
   "source": [
    "### 6.3 Pythonのデータモデル"
   ]
  },
  {
   "cell_type": "markdown",
   "metadata": {},
   "source": [
    "##### これまでの例は、いわゆるPythonテータすなわちオフジェクトモデル (https:// docs.python.org/ ja/3/ reference/ datamodel.html)のいくつかの側面を示してきました。PythonデータモデルによりPythonの基本言語要素に沿ったクラスを設計できます。\n",
    "##### Pythonデータモデルは非常に重要なので、Ramalho(2015)の例を少し手直ししていくつかの側面を検討します。（ユークリッド空間のベクトルのような）1次元3要素ベクトルのクラスを実装します。まず特殊メソッド__init__です。"
   ]
  },
  {
   "cell_type": "code",
   "execution_count": 172,
   "metadata": {},
   "outputs": [],
   "source": [
    "#あらかじめ初期化したインスタンス属性(3次元空間を考える）(2~5行目)\n",
    "class Vector(object):\n",
    "    def __init__(self, x=0, y=0,z=0):\n",
    "        self.x = x\n",
    "        self.y = y\n",
    "        self.z = z"
   ]
  },
  {
   "cell_type": "code",
   "execution_count": 173,
   "metadata": {},
   "outputs": [
    {
     "data": {
      "text/plain": [
       "<__main__.Vector at 0x123f317cc90>"
      ]
     },
     "execution_count": 173,
     "metadata": {},
     "output_type": "execute_result"
    }
   ],
   "source": [
    "#新インスタンスv(1行目)\n",
    "#デフォルトの文字列表現(2行目)\n",
    "v = Vector(1, 2, 3)\n",
    "v"
   ]
  },
  {
   "cell_type": "markdown",
   "metadata": {},
   "source": [
    "##### オブジェクトを説明する文字列表現は特殊メソッド__repr__で可能です。"
   ]
  },
  {
   "cell_type": "code",
   "execution_count": 174,
   "metadata": {},
   "outputs": [],
   "source": [
    "class Vector(Vector): \n",
    "    def __repr__(self): \n",
    "        return'Vector(%r, %r, %r)'% (self.x, self.y, self.z)"
   ]
  },
  {
   "cell_type": "code",
   "execution_count": 175,
   "metadata": {},
   "outputs": [
    {
     "data": {
      "text/plain": [
       "Vector(1, 2, 3)"
      ]
     },
     "execution_count": 175,
     "metadata": {},
     "output_type": "execute_result"
    }
   ],
   "source": [
    "#新たな文字列表現\n",
    "v = Vector(1, 2, 3)\n",
    "v"
   ]
  },
  {
   "cell_type": "code",
   "execution_count": 176,
   "metadata": {},
   "outputs": [
    {
     "name": "stdout",
     "output_type": "stream",
     "text": [
      "Vector(1, 2, 3)\n"
     ]
    }
   ],
   "source": [
    "print(v)"
   ]
  },
  {
   "cell_type": "markdown",
   "metadata": {},
   "source": [
    "##### 標準Python関数abs()とbool()のVectorクラスにおける振る舞いは特殊メソッド__abs__と__bool__で定義できます。"
   ]
  },
  {
   "cell_type": "code",
   "execution_count": 177,
   "metadata": {},
   "outputs": [],
   "source": [
    "#3属性値のユーク リッド・ノルムを返す(3行目)\n",
    "class Vector(Vector): \n",
    "    def __abs__(self): \n",
    "        return (self.x ** 2 + self.y ** 2 + self.z ** 2) ** 0.5\n",
    "        def __bool__(self) : return bool(abs(self))"
   ]
  },
  {
   "cell_type": "code",
   "execution_count": 178,
   "metadata": {},
   "outputs": [
    {
     "data": {
      "text/plain": [
       "2.449489742783178"
      ]
     },
     "execution_count": 178,
     "metadata": {},
     "output_type": "execute_result"
    }
   ],
   "source": [
    "#非ゼロ属性値の新Vectorオブジェクト\n",
    "v = Vector(1, 2, -1)\n",
    "abs(v)"
   ]
  },
  {
   "cell_type": "code",
   "execution_count": 179,
   "metadata": {},
   "outputs": [
    {
     "data": {
      "text/plain": [
       "2.449489742783178"
      ]
     },
     "execution_count": 179,
     "metadata": {},
     "output_type": "execute_result"
    }
   ],
   "source": [
    "abs(v)"
   ]
  },
  {
   "cell_type": "code",
   "execution_count": 180,
   "metadata": {},
   "outputs": [
    {
     "data": {
      "text/plain": [
       "True"
      ]
     },
     "execution_count": 180,
     "metadata": {},
     "output_type": "execute_result"
    }
   ],
   "source": [
    "bool(v)"
   ]
  },
  {
   "cell_type": "code",
   "execution_count": 181,
   "metadata": {},
   "outputs": [
    {
     "data": {
      "text/plain": [
       "Vector(0, 0, 0)"
      ]
     },
     "execution_count": 181,
     "metadata": {},
     "output_type": "execute_result"
    }
   ],
   "source": [
    "#ゼロ属性値だけの新Vectorオブジェクト\n",
    "V = Vector()\n",
    "V\n"
   ]
  },
  {
   "cell_type": "code",
   "execution_count": 182,
   "metadata": {},
   "outputs": [
    {
     "data": {
      "text/plain": [
       "0.0"
      ]
     },
     "execution_count": 182,
     "metadata": {},
     "output_type": "execute_result"
    }
   ],
   "source": [
    "abs(V)"
   ]
  },
  {
   "cell_type": "code",
   "execution_count": 183,
   "metadata": {},
   "outputs": [
    {
     "data": {
      "text/plain": [
       "True"
      ]
     },
     "execution_count": 183,
     "metadata": {},
     "output_type": "execute_result"
    }
   ],
   "source": [
    "bool(V)"
   ]
  },
  {
   "cell_type": "markdown",
   "metadata": {},
   "source": [
    "##### 何度も示したように、＋と＊演算子はほとんどのPythonオブジェクトに使えます。それらの振る舞いは特殊メソッド__add__と__mul__で定義されます。"
   ]
  },
  {
   "cell_type": "code",
   "execution_count": 184,
   "metadata": {},
   "outputs": [],
   "source": [
    "#この場合、特殊メソッドは、同じ種類のオプジェクトを返す\n",
    "class Vector(Vector): \n",
    "    def __add__(self, other): \n",
    "        x = self.x + other.x\n",
    "        y = self.y + other.y\n",
    "        z = self.z + other.z\n",
    "        return Vector(x, y, z)\n",
    "        def __mul__(self, scalar): \n",
    "            return Vector(self.x * scalar, \n",
    "            self.y * scalar, \n",
    "            self. z * scalar)"
   ]
  },
  {
   "cell_type": "code",
   "execution_count": 185,
   "metadata": {},
   "outputs": [],
   "source": [
    "v = Vector(1, 2, 3) "
   ]
  },
  {
   "cell_type": "code",
   "execution_count": 186,
   "metadata": {},
   "outputs": [
    {
     "data": {
      "text/plain": [
       "Vector(3, 5, 7)"
      ]
     },
     "execution_count": 186,
     "metadata": {},
     "output_type": "execute_result"
    }
   ],
   "source": [
    "v + Vector(2, 3, 4)"
   ]
  },
  {
   "cell_type": "code",
   "execution_count": 187,
   "metadata": {},
   "outputs": [
    {
     "ename": "TypeError",
     "evalue": "unsupported operand type(s) for *: 'Vector' and 'int'",
     "output_type": "error",
     "traceback": [
      "\u001b[1;31m---------------------------------------------------------------------------\u001b[0m",
      "\u001b[1;31mTypeError\u001b[0m                                 Traceback (most recent call last)",
      "Cell \u001b[1;32mIn[187], line 1\u001b[0m\n\u001b[1;32m----> 1\u001b[0m v \u001b[39m*\u001b[39m \u001b[39m2\u001b[39m\n",
      "\u001b[1;31mTypeError\u001b[0m: unsupported operand type(s) for *: 'Vector' and 'int'"
     ]
    }
   ],
   "source": [
    "v * 2"
   ]
  },
  {
   "cell_type": "markdown",
   "metadata": {},
   "source": [
    "##### 別の標準 Python関数len()は、オブジェクトの要素数の長さを返します。関数は呼び出されると、特殊メソッド__len__にアクセスします。特殊メソッド__getitem__は、角括弧表記のインデックス操作を行います。"
   ]
  },
  {
   "cell_type": "code",
   "execution_count": 188,
   "metadata": {},
   "outputs": [],
   "source": [
    "#Vectorクラスの全インスタンスは長さが3\n",
    "class Vector(Vector): \n",
    "    def __len__(self) : return 3\n",
    "    def __getitem__(self, i) : \n",
    "        if i in [0, -3]: return self.x \n",
    "        elif i in [1, -2]: return self.y \n",
    "        elif i in [2, -1]: return self.z\n",
    "        else: raise IndexError('Index out of range.')"
   ]
  },
  {
   "cell_type": "code",
   "execution_count": 189,
   "metadata": {},
   "outputs": [
    {
     "data": {
      "text/plain": [
       "3"
      ]
     },
     "execution_count": 189,
     "metadata": {},
     "output_type": "execute_result"
    }
   ],
   "source": [
    "v = Vector(1, 2, 3)\n",
    "len(v)"
   ]
  },
  {
   "cell_type": "code",
   "execution_count": 190,
   "metadata": {},
   "outputs": [
    {
     "data": {
      "text/plain": [
       "1"
      ]
     },
     "execution_count": 190,
     "metadata": {},
     "output_type": "execute_result"
    }
   ],
   "source": [
    "v[0]"
   ]
  },
  {
   "cell_type": "code",
   "execution_count": 191,
   "metadata": {},
   "outputs": [
    {
     "data": {
      "text/plain": [
       "2"
      ]
     },
     "execution_count": 191,
     "metadata": {},
     "output_type": "execute_result"
    }
   ],
   "source": [
    "v[-2]"
   ]
  },
  {
   "cell_type": "code",
   "execution_count": 192,
   "metadata": {},
   "outputs": [
    {
     "ename": "IndexError",
     "evalue": "Index out of range.",
     "output_type": "error",
     "traceback": [
      "\u001b[1;31m---------------------------------------------------------------------------\u001b[0m",
      "\u001b[1;31mIndexError\u001b[0m                                Traceback (most recent call last)",
      "Cell \u001b[1;32mIn[192], line 1\u001b[0m\n\u001b[1;32m----> 1\u001b[0m v[\u001b[39m3\u001b[39m]\n",
      "Cell \u001b[1;32mIn[188], line 8\u001b[0m, in \u001b[0;36mVector.__getitem__\u001b[1;34m(self, i)\u001b[0m\n\u001b[0;32m      6\u001b[0m \u001b[39melif\u001b[39;00m i \u001b[39min\u001b[39;00m [\u001b[39m1\u001b[39m, \u001b[39m-\u001b[39m\u001b[39m2\u001b[39m]: \u001b[39mreturn\u001b[39;00m \u001b[39mself\u001b[39m\u001b[39m.\u001b[39my \n\u001b[0;32m      7\u001b[0m \u001b[39melif\u001b[39;00m i \u001b[39min\u001b[39;00m [\u001b[39m2\u001b[39m, \u001b[39m-\u001b[39m\u001b[39m1\u001b[39m]: \u001b[39mreturn\u001b[39;00m \u001b[39mself\u001b[39m\u001b[39m.\u001b[39mz\n\u001b[1;32m----> 8\u001b[0m \u001b[39melse\u001b[39;00m: \u001b[39mraise\u001b[39;00m \u001b[39mIndexError\u001b[39;00m(\u001b[39m'\u001b[39m\u001b[39mIndex out of range.\u001b[39m\u001b[39m'\u001b[39m)\n",
      "\u001b[1;31mIndexError\u001b[0m: Index out of range."
     ]
    }
   ],
   "source": [
    "v[3]"
   ]
  },
  {
   "cell_type": "markdown",
   "metadata": {},
   "source": [
    "##### 特殊メソッド__iter__はオブジェクトの要素でイテレーションするときの振る舞いを定義します。これが定義されたオブジェクトはイテラブルと呼ばれます。例えば、コレクションとコンテナはすべてイテラブルです。"
   ]
  },
  {
   "cell_type": "code",
   "execution_count": 193,
   "metadata": {},
   "outputs": [],
   "source": [
    "class Vector(Vector): \n",
    "    def __iter__(self): \n",
    "        for i in range(len(self)): \n",
    "            yield self[i]"
   ]
  },
  {
   "cell_type": "code",
   "execution_count": 194,
   "metadata": {},
   "outputs": [],
   "source": [
    "v = Vector(1, 2, 3)"
   ]
  },
  {
   "cell_type": "code",
   "execution_count": 195,
   "metadata": {},
   "outputs": [
    {
     "name": "stdout",
     "output_type": "stream",
     "text": [
      "1\n",
      "2\n",
      "3\n"
     ]
    }
   ],
   "source": [
    "#(__getitem__による）インテックスの値を用いた間接イテレーション\n",
    "for i in range(3):\n",
    "    print(v[i])"
   ]
  },
  {
   "cell_type": "code",
   "execution_count": 196,
   "metadata": {},
   "outputs": [
    {
     "name": "stdout",
     "output_type": "stream",
     "text": [
      "1\n",
      "2\n",
      "3\n"
     ]
    }
   ],
   "source": [
    "#(__iter__を用いた)クラスのインスタンスの直接イテレーション\n",
    "for coordinate in v: \n",
    "    print(coordinate)"
   ]
  },
  {
   "cell_type": "markdown",
   "metadata": {},
   "source": [
    "### 6.4 Vectorクラス"
   ]
  },
  {
   "cell_type": "markdown",
   "metadata": {},
   "source": [
    "##### Vectorのメソッドを示します。"
   ]
  },
  {
   "cell_type": "code",
   "execution_count": 197,
   "metadata": {},
   "outputs": [],
   "source": [
    "class Vector(object): \n",
    "    def __init__(self, X=0, y=0, Z=0): \n",
    "        self.x = x \n",
    "        self.y = y \n",
    "        self.z = z \n",
    "        def __repr__(self) : \n",
    "            return'Vector(%r, %r, %r)'% (self.x, self.y, self.z)\n",
    "            def __abs__(self): \n",
    "                return (self.x ** 2 + self.y ** 2 + self.z ** 2) ** 0.5\n",
    "                def __bool__(self): \n",
    "                    return bool(abs(self))\n",
    "                    def __add__(self, other) : \n",
    "                        x = self.x + other.x \n",
    "                        y = self.y + other.y \n",
    "                        z = self.z + other.z \n",
    "                        return Vector(x, y, z)\n",
    "                        def __mul__(self, scalar): \n",
    "                            return Vector(self.x * scalar, self.y * scalar, self.z * scalar)\n",
    "                            def len (self) : return 3 \n",
    "                            def __getitem__(self, i):\n",
    "                                if i in [0, -3]: return self.x \n",
    "                                elif i in [1, -2]: return self.y \n",
    "                                elif i in [2, -1]: return self. z \n",
    "                                else: raise IndexError('Index out of range.')\n",
    "                                def __iter__(self): \n",
    "                                    for i in range(len(self)): \n",
    "                                        yield self[i]"
   ]
  },
  {
   "cell_type": "markdown",
   "metadata": {},
   "source": [
    "### 6.5 結論"
   ]
  },
  {
   "cell_type": "markdown",
   "metadata": {},
   "source": [
    "##### 本章はオブジェクト指向プログラミング (OOP)の概念と実現方法を理論的ならびにPythonの例を用いて紹介しました。OOPはPythonの主プログラミングパラダイムです。複雑なアプリケーションのモデル化と実装だけでなく柔軟なPythonデータモデルにより、標準Pythonオブジェクトのように振る舞うカスタムオブジェクトが作成できます。OOPには批判 もありますが、Pythonプログラマとクオンツにはある程度の複雑さに達した場合に役立つ強力なツールだと言っても良いでしょう 。「第5部デリハティブ分析」で説明するデリバティブの価格付けパッケージは、OOPが、本質的な複雑さへの対と抽象化への要件を満たす唯一のプログラミングパラダイムであることを示しています。"
   ]
  }
 ],
 "metadata": {
  "kernelspec": {
   "display_name": "base",
   "language": "python",
   "name": "python3"
  },
  "language_info": {
   "codemirror_mode": {
    "name": "ipython",
    "version": 3
   },
   "file_extension": ".py",
   "mimetype": "text/x-python",
   "name": "python",
   "nbconvert_exporter": "python",
   "pygments_lexer": "ipython3",
   "version": "3.11.3"
  },
  "orig_nbformat": 4
 },
 "nbformat": 4,
 "nbformat_minor": 2
}
